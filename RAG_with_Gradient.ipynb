{
 "cells": [
  {
   "cell_type": "markdown",
   "metadata": {},
   "source": [
    "# Building RAG System with Gradient Platform\n",
    "\n",
    "- Cources: SEP 775:Introduction to Computational Natural Language Processing\n",
    "- Group: 5\n",
    "\n",
    "## Introduction\n",
    "\n",
    "Gradient platform could host LLMs and provide a simple way to build a RAG system without the need of a powerful machine. And we can even fine-tune the model on the platform. \n",
    "URL: https://auth.gradient.ai/select-workspace"
   ]
  },
  {
   "cell_type": "markdown",
   "metadata": {},
   "source": [
    "## Setup environment"
   ]
  },
  {
   "cell_type": "code",
   "execution_count": 1,
   "metadata": {},
   "outputs": [],
   "source": [
    "# %pip install llama-index-embeddings-langchain -qU\n",
    "# %pip install llama-index-llms-gradient -qU\n",
    "# %pip install llama-index -qU\n",
    "# %pip install gradientai -qU\n",
    "# %pip install llama-index-finetuning -qU\n",
    "# %pip install llama-index-llms-gradient -qU\n",
    "# %pip install llama-index-embeddings-gradient -qU\n",
    "# %pip install llama-index -qU\n",
    "# %pip install gradientai -qU\n",
    "# %pip install langchainhub -qU"
   ]
  },
  {
   "cell_type": "code",
   "execution_count": 1,
   "metadata": {},
   "outputs": [
    {
     "data": {
      "text/plain": [
       "True"
      ]
     },
     "execution_count": 1,
     "metadata": {},
     "output_type": "execute_result"
    }
   ],
   "source": [
    "import os\n",
    "import matplotlib.pyplot as plt\n",
    "from llama_index.core import Settings, VectorStoreIndex, SimpleDirectoryReader, StorageContext, load_index_from_storage\n",
    "from dotenv import load_dotenv\n",
    "from llama_index.core import PromptTemplate\n",
    "from IPython.display import Markdown, display\n",
    "\n",
    "load_dotenv() \n",
    "# load environment variables from .env file:\n",
    "# OPENAI_API_KEY\n",
    "# HUGGINGFACE_API_KEY\n",
    "\n",
    "# GRADIENT_ACCESS_TOKEN \n",
    "# GRADIENT_WORKSPACE_ID"
   ]
  },
  {
   "cell_type": "code",
   "execution_count": 2,
   "metadata": {},
   "outputs": [],
   "source": [
    "EMBED_MODEL_ID = \"BAAI/bge-small-en-v1.5\"               # Embedding model path from huggingface\n",
    "INPUT_DATA_PATH = './resources/output/'                          # Path to the input data\n",
    "QUESTION_LIST_PATH = './data/question_context.csv'      # Path to the question list\n",
    "VECTOR_STORE_DIR = \"./senten_window_vectorDB\"                         # Path to the vector store directory\n",
    "CHUNK_SIZE = 256                                        # Chunk size for the vector store\n",
    "OVERLAP_SIZE = 10                                       # Overlap size for the vector store\n",
    "SYSTEM_PROMPT=\"\"\"\n",
    "You are an AI teaching Assistant for a course SEP 775 - Computational Natural Language Processing.\n",
    "The course is provided for graduate students from Master of Engineering in Systems and Technology program in McMaster University.\n",
    "\n",
    "This graduate course introduces some basic concepts in computational natural language processing (NLP) and their applications (e.g., self-driving cars, manufacturing, etc.) to teaching students how to deal with textual data in Artificial Intelligence. This course demonstrates how machines can learn different tasks in natural language, such as language modeling, text generation, machine translation, and language understanding. In this regard, we go over the most promising methods in this literature and the most recent state-of-the-art techniques. Moreover, this course explores different real-world applications of NLP and helps students get hands-on experience in this field.\n",
    "Students are required to complete SEP 740, or SEP 788 and SEP 789, prior to enrolling.\n",
    "\n",
    "You will provide an interactive platform for students to ask questions and receive guidance on course materials.\n",
    "Your goal is to answer questions as accurately as possible based on the instructions and context provided.\n",
    "\n",
    "At the same time, if the answer is extract for the source or context, please provide the source (use the file name and drop the suffix, e.g. \".txt\", \".pdf\") in a new line\n",
    "Fof example:\n",
    "the user ask: What is the times of this course?\n",
    "Your response should be:\n",
    "The times of the course, SEP 775 - Computational Natural Language Processing, lectures are on Wednesdays from 3:30 pm to 6:30 pm.\n",
    "Source: NLP_Winter_2024_Course_Outline\n",
    "But if user ask: Who are you?\n",
    "Your response should be:\n",
    "I am an AI teaching Assistant for a course SEP 775 - Computational Natural Language Processing, How can I help you?\n",
    "This question is not related to the context, so you should just answer the question and don't need to provide any source.\n",
    "\"\"\""
   ]
  },
  {
   "cell_type": "markdown",
   "metadata": {},
   "source": [
    "## Load LLM Model hosted on Gradient"
   ]
  },
  {
   "cell_type": "code",
   "execution_count": 3,
   "metadata": {},
   "outputs": [
    {
     "name": "stdout",
     "output_type": "stream",
     "text": [
      " I apologize, but I don't have access to specific information about courses or instructors at the University of Toronto. Additionally, I cannot provide personal information about individuals without their consent.\n",
      "\n",
      "If you are looking for information about a specific course or instructor at the University of Toronto, I recommend contacting the university directly or checking their website for more information. They should be able to provide you with the most up-to-date and accurate information about courses and instructors.\n"
     ]
    }
   ],
   "source": [
    "# Gradient hosted LLMs\n",
    "from llama_index.llms.gradient import GradientBaseModelLLM\n",
    "\n",
    "model_slug = \"llama2-7b-chat\"\n",
    "llm = GradientBaseModelLLM(\n",
    "    base_model_slug=model_slug,\n",
    "    max_tokens=400,\n",
    ")\n",
    "\n",
    "# non-streaming\n",
    "resp = llm.complete(\"What is the Instructor name of the course SEP 775?\")\n",
    "print(resp)"
   ]
  },
  {
   "cell_type": "markdown",
   "metadata": {},
   "source": [
    "## Load Embedding Model hosted on Gradient"
   ]
  },
  {
   "cell_type": "code",
   "execution_count": 5,
   "metadata": {},
   "outputs": [],
   "source": [
    "from llama_index.embeddings.gradient import GradientEmbedding\n",
    "from llama_index.core import Settings\n",
    "\n",
    "embed_model = GradientEmbedding(\n",
    "    gradient_access_token=os.environ[\"GRADIENT_ACCESS_TOKEN\"],\n",
    "    gradient_workspace_id=os.environ[\"GRADIENT_WORKSPACE_ID\"],\n",
    "    gradient_model_slug=\"bge-large\",\n",
    ")"
   ]
  },
  {
   "cell_type": "code",
   "execution_count": 6,
   "metadata": {},
   "outputs": [],
   "source": [
    "Settings.llm = llm\n",
    "Settings.embed_model = embed_model"
   ]
  },
  {
   "cell_type": "code",
   "execution_count": 4,
   "metadata": {},
   "outputs": [],
   "source": [
    "# avenue2learn_materials\n",
    "avenue2learn_path = './resources/materials_avenue2learn_and_notes/'\n",
    "avenue2learn_files = os.listdir(avenue2learn_path)\n",
    "avenue2learn_files = [f for f in avenue2learn_files if f.endswith('.pdf')]\n",
    "\n",
    "reader = SimpleDirectoryReader(avenue2learn_path)\n",
    "documents = reader.load_data()"
   ]
  },
  {
   "cell_type": "code",
   "execution_count": 11,
   "metadata": {},
   "outputs": [],
   "source": [
    "from llama_index.core.node_parser import SentenceWindowNodeParser\n",
    "\n",
    "node_parser = SentenceWindowNodeParser.from_defaults(\n",
    "    window_size=6,\n",
    "    window_metadata_key=\"window\",\n",
    "    original_text_metadata_key=\"original_sentence\"\n",
    ")\n",
    "\n",
    "nodes = node_parser.get_nodes_from_documents(documents)"
   ]
  },
  {
   "cell_type": "code",
   "execution_count": 17,
   "metadata": {},
   "outputs": [
    {
     "name": "stdout",
     "output_type": "stream",
     "text": [
      "17351\n"
     ]
    },
    {
     "data": {
      "image/png": "[encoded data removed]",
      "text/plain": [
       "<Figure size 640x480 with 1 Axes>"
      ]
     },
     "metadata": {},
     "output_type": "display_data"
    }
   ],
   "source": [
    "# keep the nodes with the length greater than 10 and less than 1000\n",
    "nodes = [node for node in nodes if len(node.text) > 10 and len(node.text) < 600]\n",
    "\n",
    "print(len(nodes))\n",
    "\n",
    "len_of_nodes_text_list = [len(node.text) for node in nodes]\n",
    "\n",
    "# plot the distribution of the length of the text in the nodes\n",
    "plt.hist(len_of_nodes_text_list, bins=50)\n",
    "plt.show()\n"
   ]
  },
  {
   "cell_type": "code",
   "execution_count": 15,
   "metadata": {},
   "outputs": [
    {
     "name": "stdout",
     "output_type": "stream",
     "text": [
      "Using Existing DB...\n"
     ]
    }
   ],
   "source": [
    "# check if storage already exists\n",
    "sentence_index = None\n",
    "if not os.path.exists(VECTOR_STORE_DIR):\n",
    "    print(\"Creating New DB...\")\n",
    "    sentence_index = VectorStoreIndex(nodes)\n",
    "    # store it for later\n",
    "    sentence_index.storage_context.persist(persist_dir=VECTOR_STORE_DIR)\n",
    "else:\n",
    "    print(\"Using Existing DB...\")\n",
    "    # load the existing index\n",
    "    storage_context = StorageContext.from_defaults(persist_dir=VECTOR_STORE_DIR)\n",
    "    sentence_index = load_index_from_storage(storage_context=storage_context)"
   ]
  },
  {
   "cell_type": "code",
   "execution_count": 16,
   "metadata": {},
   "outputs": [],
   "source": [
    "from llama_index.core.postprocessor import MetadataReplacementPostProcessor\n",
    "\n",
    "query_engine = sentence_index.as_query_engine(\n",
    "    similarity_top_k=3,\n",
    "    # the target key defaults to `window` to match the node_parser's default\n",
    "    node_postprocessors=[\n",
    "        MetadataReplacementPostProcessor(target_metadata_key=\"window\")\n",
    "    ],\n",
    ")"
   ]
  },
  {
   "cell_type": "code",
   "execution_count": 18,
   "metadata": {},
   "outputs": [],
   "source": [
    "# define prompt viewing function\n",
    "def display_prompt_dict(prompts_dict):\n",
    "    for k, p in prompts_dict.items():\n",
    "        text_md = f\"**Prompt Key**: {k}<br>\" f\"**Text:** <br>\"\n",
    "        display(Markdown(text_md))\n",
    "        print(p.get_template())\n",
    "        display(Markdown(\"<br><br>\"))"
   ]
  },
  {
   "cell_type": "code",
   "execution_count": 124,
   "metadata": {},
   "outputs": [],
   "source": [
    "qa_prompt_tmpl_str = (\n",
    "    \"Below is the context information related to a course: SEP 775 - Computational Natural Language Processing.\\n\"\n",
    "    \"---------------------\\n\"\n",
    "    \"{context_str}\\n\"\n",
    "    \"---------------------\\n\"\n",
    "    \"Given the context information and not prior knowledge, \"\n",
    "    \"answer the query.\\n\"\n",
    "    \"---------------------\\n\"\n",
    "    \"Query: {query_str}\\n\"\n",
    "    \"Answer: \\n\"\n",
    ")\n",
    "qa_prompt_tmpl = PromptTemplate(qa_prompt_tmpl_str)\n",
    "query_engine.update_prompts({\"response_synthesizer:text_qa_template\": qa_prompt_tmpl})"
   ]
  },
  {
   "cell_type": "code",
   "execution_count": 109,
   "metadata": {},
   "outputs": [
    {
     "name": "stdout",
     "output_type": "stream",
     "text": [
      "I can help you with understanding course materials, answering questions related to Computational Natural Language Processing, providing guidance on assignments and projects, and offering explanations on NLP concepts and techniques.\n",
      "\n"
     ]
    }
   ],
   "source": [
    "window_response = query_engine.query(\"What can you help me with?\")\n",
    "print(window_response)"
   ]
  },
  {
   "cell_type": "code",
   "execution_count": 110,
   "metadata": {},
   "outputs": [
    {
     "name": "stdout",
     "output_type": "stream",
     "text": [
      "The times of the course, SEP 775 - Computational Natural Language Processing, lectures are on Wednesdays from 3:30 pm to 6:30 pm.\n",
      "Source file name: NLP_Winter_2024_Course_Outline.txt\n"
     ]
    }
   ],
   "source": [
    "window_response = query_engine.query(\"What is the times of this course?\")\n",
    "print(window_response)"
   ]
  },
  {
   "cell_type": "markdown",
   "metadata": {},
   "source": [
    "## Load chat engine form Index"
   ]
  },
  {
   "cell_type": "code",
   "execution_count": 140,
   "metadata": {},
   "outputs": [],
   "source": [
    "chat_engine = sentence_index.as_chat_engine(\n",
    "    chat_mode=\"context\",\n",
    "    system_prompt=(SYSTEM_PROMPT),\n",
    "    text_qa_template=qa_prompt_tmpl,\n",
    "    similarity_top_k=3,\n",
    "    node_postprocessors=[\n",
    "        MetadataReplacementPostProcessor(target_metadata_key=\"window\")\n",
    "    ],\n",
    ")"
   ]
  },
  {
   "cell_type": "code",
   "execution_count": 141,
   "metadata": {},
   "outputs": [
    {
     "name": "stdout",
     "output_type": "stream",
     "text": [
      "Question: What is the Instructor name of the NLP course?\n",
      "Answer: The instructor of the NLP course is Hamidreza Mahyar.\n",
      "Source: NLP_Winter_2024_Course_Outline\n",
      "\n"
     ]
    }
   ],
   "source": [
    "question = \"What is the Instructor name of the NLP course?\"\n",
    "response = chat_engine.chat(question)\n",
    "print(f\"Question: {question}\\nAnswer: {response}\\n\")"
   ]
  },
  {
   "cell_type": "code",
   "execution_count": 142,
   "metadata": {},
   "outputs": [
    {
     "name": "stdout",
     "output_type": "stream",
     "text": [
      "Question: What is the email of the instructor?\n",
      "Answer: The email of the instructor for the NLP course is mahyarh@mcmaster.ca.\n",
      "Source: NLP_Winter_2024_Course_Outline\n",
      "\n"
     ]
    }
   ],
   "source": [
    "question = \"What is the email of the instructor?\"\n",
    "response = chat_engine.chat(question)\n",
    "print(f\"Question: {question}\\nAnswer: {response}\\n\")"
   ]
  },
  {
   "cell_type": "code",
   "execution_count": 143,
   "metadata": {},
   "outputs": [
    {
     "name": "stdout",
     "output_type": "stream",
     "text": [
      "Question: What is the name of the instructor?\n",
      "Answer: The name of the instructor for the NLP course is Hamidreza Mahyar. How can I assist you further?\n",
      "Source: NLP_Winter_2024_Course_Outline\n",
      "\n"
     ]
    }
   ],
   "source": [
    "question = \"What is the name of the instructor?\"\n",
    "response = chat_engine.chat(question)\n",
    "print(f\"Question: {question}\\nAnswer: {response}\\n\")"
   ]
  }
 ],
 "metadata": {
  "kernelspec": {
   "display_name": "deeplearning1",
   "language": "python",
   "name": "python3"
  },
  "language_info": {
   "codemirror_mode": {
    "name": "ipython",
    "version": 3
   },
   "file_extension": ".py",
   "mimetype": "text/x-python",
   "name": "python",
   "nbconvert_exporter": "python",
   "pygments_lexer": "ipython3",
   "version": "3.11.8"
  }
 },
 "nbformat": 4,
 "nbformat_minor": 2
}
