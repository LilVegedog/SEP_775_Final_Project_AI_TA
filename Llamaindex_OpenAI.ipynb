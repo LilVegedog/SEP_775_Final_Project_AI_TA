{
 "cells": [
  {
   "cell_type": "markdown",
   "metadata": {},
   "source": [
    "# Retrieval Augmented Generation (RAG) System Using Chat GPT With OpenAI"
   ]
  },
  {
   "cell_type": "code",
   "execution_count": 1,
   "metadata": {},
   "outputs": [],
   "source": [
    "# !pip install openai -U\n",
    "# !pip install llama-index llama-index-core llama-index-readers-file llama-index-llms-ollama llama-index-llms-huggingface llama-index-embeddings-huggingface llama-index-llms-openai llama-index-embeddings-openai -U\n",
    "# !pip install spacy -U"
   ]
  },
  {
   "cell_type": "code",
   "execution_count": 1,
   "metadata": {},
   "outputs": [
    {
     "data": {
      "text/plain": [
       "True"
      ]
     },
     "execution_count": 1,
     "metadata": {},
     "output_type": "execute_result"
    }
   ],
   "source": [
    "\n",
    "import os\n",
    "import torch\n",
    "import tiktoken\n",
    "# from openai import OpenAI as OpenAI_API\n",
    "from llama_index.llms.openai import OpenAI\n",
    "import matplotlib.pyplot as plt\n",
    "from llama_index.core import Settings, VectorStoreIndex, SimpleDirectoryReader, \\\n",
    "    ServiceContext, StorageContext, load_index_from_storage, get_response_synthesizer, \\\n",
    "    PromptTemplate, ChatPromptTemplate\n",
    "from llama_index.core.response.pprint_utils import pprint_response\n",
    "from llama_index.core.retrievers import VectorIndexRetriever\n",
    "from llama_index.core.query_engine import RetrieverQueryEngine\n",
    "from llama_index.core.chat_engine import SimpleChatEngine, ContextChatEngine\n",
    "from llama_index.core.postprocessor import SimilarityPostprocessor, MetadataReplacementPostProcessor\n",
    "from llama_index.core.node_parser import  SentenceSplitter, SentenceWindowNodeParser\n",
    "from llama_index.core.memory import ChatMemoryBuffer\n",
    "from llama_index.core.llms import ChatMessage, MessageRole\n",
    "from llama_index.embeddings.huggingface import HuggingFaceEmbedding\n",
    "from llama_index.embeddings.openai import OpenAIEmbedding\n",
    "from dotenv import load_dotenv\n",
    "load_dotenv()\n",
    "# os.environ['HUGGINGFACE_API_KEY']=os.getenv(\"HUGGINGFACE_API_KEY\")\n",
    "# os.environ['OPENAI_API_KEY']=os.getenv(\"OPENAI_API_KEY\")\n"
   ]
  },
  {
   "cell_type": "markdown",
   "metadata": {},
   "source": [
    "## Parameter Initialization"
   ]
  },
  {
   "cell_type": "code",
   "execution_count": 2,
   "metadata": {},
   "outputs": [],
   "source": [
    "LLM_NAME = \"gpt-3.5-turbo\"                              # LLM model path from OpenAI\n",
    "TOKENIZER_NAME = \"gpt-3.5-turbo\"                        # Tokenizer path from OpenAI\n",
    "EMBED_MODEL_ID = \"BAAI/bge-small-en-v1.5\"               # Embedding model path from huggingface\n",
    "# EMBED_MODEL_ID = \"text-embedding-3-small\"               # Embedding model path from OpenAI\n",
    "# INPUT_DATA = './data/materials.md'                      # Path to the input data\n",
    "INPUT_DATA_PATH = './material'                          # Path to the input data\n",
    "QUESTION_LIST_PATH = './data/question_answer.csv'       # Path to the question list\n",
    "VECTOR_STORE_DIR = \"./vectorDB\"                         # Path to the vector store directory\n",
    "# VECTOR_STORE_DIR = \"./vectorDB-OpenAI\"                # Path to the vector store directory\n",
    "CHUNK_SIZE = 256                                        # Chunk size for the vector store\n",
    "OVERLAP_SIZE = 10                                       # Overlap size for the vector store\n",
    "SIM_TOP_K = 4                                           # Top k similar documents\n",
    "SYSTEM_PROMPT=\"\"\"\n",
    "You are an AI teaching Assistant for the SEP 775 course. \n",
    "You will provide an interactive platform for students to ask questions and receive guidance on course materials.\n",
    "Your goal is to answer questions as accurately as possible based on the instructions and context provided.\n",
    "If you found the answer based on the context provided, you should provide the answer first, then at the end, beginning a new sentence with the words \"Source:\", followed by the name of the lecture, or assignment, or paper if possible.\n",
    "\"\"\"                                                     # create the instruction prompt                  \n"
   ]
  },
  {
   "cell_type": "markdown",
   "metadata": {},
   "source": [
    "## GPT 3.5 Large Language Model (LLM) from OpenAI"
   ]
  },
  {
   "cell_type": "code",
   "execution_count": 3,
   "metadata": {},
   "outputs": [
    {
     "name": "stdout",
     "output_type": "stream",
     "text": [
      "The instructor name of the course SEP 775 is Dr. John Smith.\n"
     ]
    }
   ],
   "source": [
    "# defaults to getting the key using os.environ.get(\"OPENAI_API_KEY\")\n",
    "# if you saved the key under a different environment variable name, you can do something like:\n",
    "# client = OpenAI_API(\n",
    "#   api_key=os.environ.get(\"OPENAI_API_KEY\"),\n",
    "# )\n",
    "# print(client.api_key)\n",
    "\n",
    "# completion = client.chat.completions.create(\n",
    "#   model=\"gpt-3.5-turbo\",\n",
    "#   messages=[\n",
    "#     {\"role\": \"system\", \"content\": \"You are an AI teaching Assistant for the course SEP 775. \\\n",
    "#       You will provide an interactive platform for students to ask questions and receive guidance on course materials. \\\n",
    "#       Your goal is to answer questions as accurately as possible based on the instructions and context provided.\"},\n",
    "#     {\"role\": \"user\", \"content\": \"What is the Instructor name of the course SEP 775?\"}\n",
    "#   ]\n",
    "# )\n",
    "\n",
    "# print(completion.choices[0].message)\n",
    "llm = OpenAI(\n",
    "  temperature=0.3, \n",
    "  model=LLM_NAME, \n",
    "  system_prompt=SYSTEM_PROMPT,\n",
    ")\n",
    "Settings.llm = llm\n",
    "Settings.tokenizer = tiktoken.encoding_for_model(TOKENIZER_NAME).encode\n",
    "\n",
    "# non-streaming\n",
    "resp = OpenAI().complete(\"What is the Instructor name of the course SEP 775?\")\n",
    "print(resp)\n"
   ]
  },
  {
   "cell_type": "markdown",
   "metadata": {},
   "source": [
    "## Retrieval Augmented Generation (RAG)"
   ]
  },
  {
   "cell_type": "markdown",
   "metadata": {},
   "source": [
    "### Ingestion of data"
   ]
  },
  {
   "cell_type": "code",
   "execution_count": 4,
   "metadata": {},
   "outputs": [
    {
     "name": "stdout",
     "output_type": "stream",
     "text": [
      "Number of Document: 45\n",
      "Length of first Document: 38464\n"
     ]
    }
   ],
   "source": [
    "documents = SimpleDirectoryReader(INPUT_DATA_PATH).load_data()\n",
    "print(\"Number of Document:\", len(documents))\n",
    "print(\"Length of first Document:\", len(documents[0].text))"
   ]
  },
  {
   "cell_type": "markdown",
   "metadata": {},
   "source": [
    "### Embeddings"
   ]
  },
  {
   "cell_type": "code",
   "execution_count": 5,
   "metadata": {},
   "outputs": [],
   "source": [
    "''' A vector embedding, often just called an embedding, \n",
    "is a numerical representation of the semantics, or meaning of your text. \n",
    "Two pieces of text with similar meanings will have mathematically similar embeddings, \n",
    "even if the actual text is quite different. '''\n",
    "\n",
    "Settings.embed_model = HuggingFaceEmbedding(model_name=EMBED_MODEL_ID, max_length=1024)\n",
    "# Settings.embed_model = OpenAIEmbedding(model=EMBED_MODEL_ID, max_length=1024)"
   ]
  },
  {
   "cell_type": "markdown",
   "metadata": {},
   "source": [
    "### Split Data in Chunks"
   ]
  },
  {
   "cell_type": "code",
   "execution_count": 1,
   "metadata": {},
   "outputs": [],
   "source": [
    "# Settings parameters\n",
    "Settings.chunk_size = CHUNK_SIZE\n",
    "Settings.chunk_overlap = OVERLAP_SIZE\n",
    "Settings"
   ]
  },
  {
   "cell_type": "markdown",
   "metadata": {},
   "source": [
    "#### Node Splitter"
   ]
  },
  {
   "cell_type": "code",
   "execution_count": 7,
   "metadata": {},
   "outputs": [
    {
     "data": {
      "image/png": "[encoded data removed]",
      "text/plain": [
       "<Figure size 640x480 with 1 Axes>"
      ]
     },
     "metadata": {},
     "output_type": "display_data"
    },
    {
     "name": "stdout",
     "output_type": "stream",
     "text": [
      "Node with max length: 1290\n",
      "Number of nodes: 2518\n"
     ]
    }
   ],
   "source": [
    "# Create a splitter\n",
    "splitter = SentenceSplitter(\n",
    "    chunk_size=CHUNK_SIZE,          # lines per chunk\n",
    "    chunk_overlap=OVERLAP_SIZE,     # overlap between chunks\n",
    ")\n",
    "# get nodes from documents\n",
    "nodes = splitter.get_nodes_from_documents(documents)\n",
    "\n",
    "length_nodes = [len(node.text) for node in nodes]\n",
    "plt.title('Length of nodes text')\n",
    "plt.hist(length_nodes, bins=100)\n",
    "plt.xlabel('Length of nodes text')\n",
    "plt.ylabel('Number of nodes')\n",
    "plt.show()\n",
    "\n",
    "# Get max length of nodes\n",
    "max_length = max(length_nodes)\n",
    "print(\"Node with max length:\", max_length)\n",
    "\n",
    "# Get the number of node\n",
    "print(\"Number of nodes:\", len(nodes))"
   ]
  },
  {
   "cell_type": "markdown",
   "metadata": {},
   "source": [
    "#### Window Node Parser Testing"
   ]
  },
  {
   "cell_type": "code",
   "execution_count": 9,
   "metadata": {},
   "outputs": [],
   "source": [
    "# # create node parser\n",
    "# node_parser = SentenceWindowNodeParser.from_defaults(\n",
    "#     # how many sentences on either side to capture\n",
    "#     window_size=6,\n",
    "#     # the metadata key that holds the window of surrounding sentences\n",
    "#     window_metadata_key=\"window\",\n",
    "#     # the metadata key that holds the original sentence\n",
    "#     original_text_metadata_key=\"original_sentence\"\n",
    "# )\n",
    "\n",
    "# nodes = node_parser.get_nodes_from_documents(documents)\n",
    "\n",
    "# # filter the nodes with the length in range [15, 800]\n",
    "# nodes = [node for node in nodes if len(node.text) >= 15 and len(node.text) <= 800]\n"
   ]
  },
  {
   "cell_type": "markdown",
   "metadata": {},
   "source": [
    "### Indexing and Storing to Vector Store"
   ]
  },
  {
   "cell_type": "code",
   "execution_count": 8,
   "metadata": {},
   "outputs": [
    {
     "name": "stdout",
     "output_type": "stream",
     "text": [
      "Using Existing DB...\n"
     ]
    }
   ],
   "source": [
    "# check if storage already exists\n",
    "if not os.path.exists(VECTOR_STORE_DIR):\n",
    "    print(\"Creating New DB...\")\n",
    "    index = VectorStoreIndex.from_documents(documents)\n",
    "    # index = VectorStoreIndex(nodes)\n",
    "    # store it for later\n",
    "    index.storage_context.persist(persist_dir=VECTOR_STORE_DIR)\n",
    "else:\n",
    "    print(\"Using Existing DB...\")\n",
    "    # load the existing index\n",
    "    storage_context = StorageContext.from_defaults(persist_dir=VECTOR_STORE_DIR)\n",
    "    index = load_index_from_storage(storage_context=storage_context)\n",
    "\n",
    "# index = VectorStoreIndex.from_documents(documents)"
   ]
  },
  {
   "cell_type": "markdown",
   "metadata": {},
   "source": [
    "### Querying"
   ]
  },
  {
   "cell_type": "code",
   "execution_count": 9,
   "metadata": {},
   "outputs": [],
   "source": [
    "# # basic method to query the index\n",
    "# query_engine = index.as_query_engine()\n",
    "\n",
    "# configure retriever\n",
    "retriever = VectorIndexRetriever(\n",
    "    index=index,\n",
    "    similarity_top_k=SIM_TOP_K,\n",
    ")\n",
    "\n",
    "# configure postprocessor\n",
    "postprocessor = SimilarityPostprocessor(\n",
    "    similarity_cutoff=0.30,\n",
    ")\n",
    "\n",
    "# configure response synthesizer\n",
    "response_synthesizer = get_response_synthesizer()\n",
    "\n",
    "# assemble query engine\n",
    "query_engine=RetrieverQueryEngine(\n",
    "    retriever=retriever, \n",
    "    response_synthesizer=response_synthesizer,\n",
    "    node_postprocessors=[postprocessor],\n",
    ")"
   ]
  },
  {
   "cell_type": "markdown",
   "metadata": {},
   "source": [
    "### Prompt Engineering"
   ]
  },
  {
   "cell_type": "markdown",
   "metadata": {},
   "source": [
    "#### Update Chat Prompt"
   ]
  },
  {
   "cell_type": "code",
   "execution_count": 10,
   "metadata": {},
   "outputs": [],
   "source": [
    "# create a chat template for the QA task\n",
    "qa_prompt_str = (\n",
    "    \"Context information below is related to the course: SEP 775 - Computational Natural Language Processing.\\n\"\n",
    "    \"---------------------\\n\"\n",
    "    \"{context_str}\\n\"\n",
    "    \"---------------------\\n\"\n",
    "    \"Given the context information and not prior knowledge, \"\n",
    "    \"answer the question: {query_str}\\n\"\n",
    ")\n",
    "\n",
    "# Text QA Prompt\n",
    "chat_text_qa_msgs = [\n",
    "    ChatMessage(\n",
    "        role=MessageRole.SYSTEM,\n",
    "        content=(\n",
    "            \"Always answer the question, even if the context isn't helpful.\"\n",
    "        ),\n",
    "    ),\n",
    "    ChatMessage(role=MessageRole.USER, content=qa_prompt_str),\n",
    "]\n",
    "text_qa_template = ChatPromptTemplate(chat_text_qa_msgs)\n",
    "\n",
    "# add a memory buffer to the chat engine\n",
    "memory = ChatMemoryBuffer.from_defaults(token_limit=1024)\n",
    "\n",
    "chat_engine = index.as_chat_engine(\n",
    "    chat_mode=\"context\",\n",
    "    verbose=False,\n",
    "    memory=memory,\n",
    "    system_prompt=(SYSTEM_PROMPT),\n",
    "    text_qa_template=text_qa_template,\n",
    "    similarity_top_k=SIM_TOP_K,\n",
    "    # node_postprocessors=[\n",
    "    #     MetadataReplacementPostProcessor(target_metadata_key=\"window\")\n",
    "    # ],\n",
    ")"
   ]
  },
  {
   "cell_type": "markdown",
   "metadata": {},
   "source": [
    "#### Update Query Prompt"
   ]
  },
  {
   "cell_type": "code",
   "execution_count": 11,
   "metadata": {},
   "outputs": [],
   "source": [
    "from IPython.display import Markdown, display\n",
    "# # define prompt viewing function\n",
    "# def display_prompt_dict(prompts_dict):\n",
    "#     for k, p in prompts_dict.items():\n",
    "#         text_md = f\"**Prompt Key**: {k}<br>\" f\"**Text:** <br>\"\n",
    "#         display(Markdown(text_md))\n",
    "#         print(p.get_template())\n",
    "#         display(Markdown(\"<br><br>\"))\n",
    "        \n",
    "# display_prompt_dict(query_engine.get_prompts())\n",
    "\n",
    "# Create a prompt template for the QA task\n",
    "qa_prompt_tmpl_str = (\n",
    "    \"Below is the context information related to a course: SEP 775 - Computational Natural Language Processing.\\n\"\n",
    "    \"---------------------\\n\"\n",
    "    \"{context_str}\\n\"\n",
    "    \"---------------------\\n\"\n",
    "    \"Given the context information and not prior knowledge, \"\n",
    "    \"answer the query.\\n\"\n",
    "    \"Query: {query_str}\\n\"\n",
    "    \"Answer: \"\n",
    ")\n",
    "qa_prompt_tmpl = PromptTemplate(qa_prompt_tmpl_str)\n",
    "\n",
    "# Update the prompt in the query engine\n",
    "query_engine.update_prompts({\"response_synthesizer:text_qa_template\": qa_prompt_tmpl})"
   ]
  },
  {
   "cell_type": "markdown",
   "metadata": {},
   "source": [
    "### Simple Testing"
   ]
  },
  {
   "cell_type": "code",
   "execution_count": 12,
   "metadata": {},
   "outputs": [
    {
     "name": "stdout",
     "output_type": "stream",
     "text": [
      "Question: Who is the Instructor of the NLP course?\n",
      "Answer: The instructor of the NLP course is Hamidreza Mahyar. \n",
      "\n",
      "Source: Course Outline 1.\n",
      "\n"
     ]
    }
   ],
   "source": [
    "question = \"Who is the Instructor of the NLP course?\"\n",
    "response = chat_engine.chat(question)\n",
    "print(f\"Question: {question}\\nAnswer: {response}\\n\")"
   ]
  },
  {
   "cell_type": "code",
   "execution_count": 13,
   "metadata": {},
   "outputs": [
    {
     "name": "stdout",
     "output_type": "stream",
     "text": [
      "Final Response: The instructor of the NLP course is Hamidreza Mahyar.\n",
      "Source: Course Outline 1.\n",
      "______________________________________________________________________\n",
      "Source Node 1/4\n",
      "Node ID: aaf5a613-d9f5-47b2-a0b5-cdd3b9009715\n",
      "Similarity: 0.7254227059980587\n",
      "Text: Course Outline 1. COURSE INFORMATION Session Offered Winter 2024\n",
      "Course Name Introduction to Computational Natural Language Processing\n",
      "Course Code SEP 775 Date s and Time s of lectures Lectures In person\n",
      "Wednesday 3 30 pm 6 30 pm Program Name System and Technology Calendar\n",
      "Description This graduate course introduces fundamental concepts in\n",
      "compu...\n",
      "______________________________________________________________________\n",
      "Source Node 2/4\n",
      "Node ID: e20ded9e-e709-46e0-ab0c-d50ec864a62f\n",
      "Similarity: 0.7198413406483012\n",
      "Text: COURSE SPECIFICS Course Description This course covers some\n",
      "fundamental concepts in natural language processing NLP and how they\n",
      "apply in real world use cases. Instruction Type Code Type Hours per\n",
      "term C Classroom instruction 39 L Laboratory workshop or fieldwork T\n",
      "Tutorial DE Distance education Total Hours 39 Resources ISBN Textbook\n",
      "Title Editi...\n",
      "______________________________________________________________________\n",
      "Source Node 3/4\n",
      "Node ID: 7cdb3fc0-b1f4-4192-89da-6f4ad405bed9\n",
      "Similarity: 0.705851244905879\n",
      "Text: McMaster University SEP 775 Final Projects Project 1 AI Teaching\n",
      "Assistant Project Overview The goal of this project is to create an AI\n",
      "Teaching Assistant AI TA . The AI TA aims to provide an interactive\n",
      "platform for students to ask questions and receive guidance on course\n",
      "materials mirroring the support traditionally offered by human\n",
      "teaching a...\n",
      "______________________________________________________________________\n",
      "Source Node 4/4\n",
      "Node ID: eaa2997e-f957-4618-87e5-b6542986c219\n",
      "Similarity: 0.6901455841913712\n",
      "Text: 2019 Kwiatkowski et al. 2019 . Our contributions are twofold.\n",
      "First we demon strate that with the proper training setup sim ply ﬁne\n",
      "tuning the question and passage encoders on existing question passage\n",
      "pairs is sufﬁcient to greatly outperform BM25. Our empirical results\n",
      "also suggest that additional pretraining may not be needed. Second we\n",
      "verify...\n",
      "The instructor of the NLP course is Hamidreza Mahyar. \n",
      "\n",
      "Source: Course Outline 1.\n"
     ]
    }
   ],
   "source": [
    "pprint_response(response,show_source=True)\n",
    "print(response)"
   ]
  },
  {
   "cell_type": "code",
   "execution_count": 14,
   "metadata": {},
   "outputs": [
    {
     "name": "stdout",
     "output_type": "stream",
     "text": [
      "Question: What is the Instructor's email address?\n",
      "Answer: The instructor's email address is mahyarh@mcmaster.ca.\n",
      "\n",
      "Source: Course Outline 1.\n",
      "\n"
     ]
    }
   ],
   "source": [
    "question = \"What is the Instructor's email address?\"\n",
    "response = chat_engine.chat(question)\n",
    "print(f\"Question: {question}\\nAnswer: {response}\\n\")"
   ]
  },
  {
   "cell_type": "code",
   "execution_count": 15,
   "metadata": {},
   "outputs": [
    {
     "name": "stdout",
     "output_type": "stream",
     "text": [
      "Final Response: The instructor's email address is mahyarh@mcmaster.ca.\n",
      "Source: Course Outline 1.\n",
      "______________________________________________________________________\n",
      "Source Node 1/4\n",
      "Node ID: 1dfca32f-33cc-4323-9ebb-19316184dfbe\n",
      "Similarity: 0.6617744299151788\n",
      "Text: . Students should be aware that when they access the electronic\n",
      "components of a course using these elements private information such\n",
      "as first and last names user names for the McMaster e mail accounts\n",
      "and program affiliation may become apparent to all other students in\n",
      "the same course. The available information is dependent on the\n",
      "technology use...\n",
      "______________________________________________________________________\n",
      "Source Node 2/4\n",
      "Node ID: b19f3e33-f549-412c-baea-0c21dad776f8\n",
      "Similarity: 0.648215664043978\n",
      "Text: Regularly check the official University communications channels.\n",
      "Official University communications are considered received if sent by\n",
      "postal mail by fax or by e mail to the student s designated primary e\n",
      "mail account via their @mcmaster.ca alias. Accept that forwarded e\n",
      "mails may be lost and that e mail is considered received if sent via\n",
      "the st...\n",
      "______________________________________________________________________\n",
      "Source Node 3/4\n",
      "Node ID: 816a2fc7-f82a-4d9a-aa9e-40c19893c8ec\n",
      "Similarity: 0.6239491241857416\n",
      "Text: In this paper we address the question can we train a better\n",
      "dense embedding model using only pairs of questions and passages or\n",
      "answers with out additional pretraining By leveraging the now standard\n",
      "BERT pretrained model Devlin et al. 2019 and a dual encoder\n",
      "architecture Bromley et al. 1994 we focus on developing the right\n",
      "training scheme using ...\n",
      "______________________________________________________________________\n",
      "Source Node 4/4\n",
      "Node ID: eaa2997e-f957-4618-87e5-b6542986c219\n",
      "Similarity: 0.6224674487202668\n",
      "Text: 2019 Kwiatkowski et al. 2019 . Our contributions are twofold.\n",
      "First we demon strate that with the proper training setup sim ply ﬁne\n",
      "tuning the question and passage encoders on existing question passage\n",
      "pairs is sufﬁcient to greatly outperform BM25. Our empirical results\n",
      "also suggest that additional pretraining may not be needed. Second we\n",
      "verify...\n",
      "The instructor's email address is mahyarh@mcmaster.ca.\n",
      "\n",
      "Source: Course Outline 1.\n"
     ]
    }
   ],
   "source": [
    "pprint_response(response,show_source=True)\n",
    "print(response)"
   ]
  },
  {
   "cell_type": "code",
   "execution_count": 18,
   "metadata": {},
   "outputs": [],
   "source": [
    "# response.source_nodes[0].metadata[\"file_name\"]\n",
    "# response.source_nodes[0].score\n",
    "# response"
   ]
  },
  {
   "cell_type": "markdown",
   "metadata": {},
   "source": [
    "### Get all the responses from the question list"
   ]
  },
  {
   "cell_type": "code",
   "execution_count": 19,
   "metadata": {},
   "outputs": [
    {
     "data": {
      "text/html": [
       "<div>\n",
       "<style scoped>\n",
       "    .dataframe tbody tr th:only-of-type {\n",
       "        vertical-align: middle;\n",
       "    }\n",
       "\n",
       "    .dataframe tbody tr th {\n",
       "        vertical-align: top;\n",
       "    }\n",
       "\n",
       "    .dataframe thead th {\n",
       "        text-align: right;\n",
       "    }\n",
       "</style>\n",
       "<table border=\"1\" class=\"dataframe\">\n",
       "  <thead>\n",
       "    <tr style=\"text-align: right;\">\n",
       "      <th></th>\n",
       "      <th>queries</th>\n",
       "      <th>responses</th>\n",
       "    </tr>\n",
       "  </thead>\n",
       "  <tbody>\n",
       "    <tr>\n",
       "      <th>0</th>\n",
       "      <td>What is the instructor's name for this course?</td>\n",
       "      <td>The instructor's name of the course is Hamidre...</td>\n",
       "    </tr>\n",
       "    <tr>\n",
       "      <th>1</th>\n",
       "      <td>What is the email address of the instructor fo...</td>\n",
       "      <td>The email address of the instructor is mahyarh...</td>\n",
       "    </tr>\n",
       "    <tr>\n",
       "      <th>2</th>\n",
       "      <td>When is this course held every week?</td>\n",
       "      <td>This course is held every Wednesday from 3:30p...</td>\n",
       "    </tr>\n",
       "    <tr>\n",
       "      <th>3</th>\n",
       "      <td>What is the name of the TA for this course?</td>\n",
       "      <td>The TA's name for this course is Reza Namazi.</td>\n",
       "    </tr>\n",
       "    <tr>\n",
       "      <th>4</th>\n",
       "      <td>What is Word2vec?</td>\n",
       "      <td>Word2vec is a framework for learning word vect...</td>\n",
       "    </tr>\n",
       "    <tr>\n",
       "      <th>...</th>\n",
       "      <td>...</td>\n",
       "      <td>...</td>\n",
       "    </tr>\n",
       "    <tr>\n",
       "      <th>85</th>\n",
       "      <td>What is the role of attention mechanisms in mu...</td>\n",
       "      <td>Attention mechanisms help in aligning and focu...</td>\n",
       "    </tr>\n",
       "    <tr>\n",
       "      <th>86</th>\n",
       "      <td>What are contrastive models, and how do they c...</td>\n",
       "      <td>Contrastive models, like CLIP and ALIGN, use c...</td>\n",
       "    </tr>\n",
       "    <tr>\n",
       "      <th>87</th>\n",
       "      <td>How do multimodal foundation models like Visua...</td>\n",
       "      <td>These models extend the BERT architecture to i...</td>\n",
       "    </tr>\n",
       "    <tr>\n",
       "      <th>88</th>\n",
       "      <td>What advancements have been made in evaluation...</td>\n",
       "      <td>New benchmarks like COCO, VQA, and Hateful Mem...</td>\n",
       "    </tr>\n",
       "    <tr>\n",
       "      <th>89</th>\n",
       "      <td>What are the challenges and future directions ...</td>\n",
       "      <td>Challenges include modality dominance, noise a...</td>\n",
       "    </tr>\n",
       "  </tbody>\n",
       "</table>\n",
       "<p>90 rows × 2 columns</p>\n",
       "</div>"
      ],
      "text/plain": [
       "                                              queries  \\\n",
       "0      What is the instructor's name for this course?   \n",
       "1   What is the email address of the instructor fo...   \n",
       "2                When is this course held every week?   \n",
       "3         What is the name of the TA for this course?   \n",
       "4                                   What is Word2vec?   \n",
       "..                                                ...   \n",
       "85  What is the role of attention mechanisms in mu...   \n",
       "86  What are contrastive models, and how do they c...   \n",
       "87  How do multimodal foundation models like Visua...   \n",
       "88  What advancements have been made in evaluation...   \n",
       "89  What are the challenges and future directions ...   \n",
       "\n",
       "                                            responses  \n",
       "0   The instructor's name of the course is Hamidre...  \n",
       "1   The email address of the instructor is mahyarh...  \n",
       "2   This course is held every Wednesday from 3:30p...  \n",
       "3       The TA's name for this course is Reza Namazi.  \n",
       "4   Word2vec is a framework for learning word vect...  \n",
       "..                                                ...  \n",
       "85  Attention mechanisms help in aligning and focu...  \n",
       "86  Contrastive models, like CLIP and ALIGN, use c...  \n",
       "87  These models extend the BERT architecture to i...  \n",
       "88  New benchmarks like COCO, VQA, and Hateful Mem...  \n",
       "89  Challenges include modality dominance, noise a...  \n",
       "\n",
       "[90 rows x 2 columns]"
      ]
     },
     "execution_count": 19,
     "metadata": {},
     "output_type": "execute_result"
    }
   ],
   "source": [
    "# Load question list from csv\n",
    "import pandas as pd\n",
    "df = pd.read_csv(QUESTION_LIST_PATH)\n",
    "df"
   ]
  },
  {
   "cell_type": "code",
   "execution_count": 20,
   "metadata": {},
   "outputs": [],
   "source": [
    "# df.to_json('./data/question_answer.json', orient='records')\n",
    "\n",
    "# idx = 0\n",
    "# for question in df['Question']:\n",
    "#     response = query_engine.query(question)\n",
    "#     pprint_response(response,show_source=True)\n",
    "#     print(f\"Question: {question}\\nAnswer: {response}\\n\")\n",
    "#     idx+=1\n",
    "#     if idx > 5:\n",
    "#         break"
   ]
  },
  {
   "cell_type": "code",
   "execution_count": 21,
   "metadata": {},
   "outputs": [],
   "source": [
    "# # Convert the dataframe to json, save the dataformat as \n",
    "# # { \"queries\": { \"ramdom id\": \"question\", ..., }, \"responses\": { \"ramdom id\": \"answer\", ..., }}\n",
    "# import json\n",
    "# data = df.to_dict()\n",
    "# # Save the data to a json file\n",
    "# with open('./data/question_answer.json', 'w') as f:\n",
    "#     json.dump(data, f)\n",
    "# data"
   ]
  },
  {
   "cell_type": "markdown",
   "metadata": {},
   "source": [
    "## Evaluation"
   ]
  },
  {
   "cell_type": "markdown",
   "metadata": {},
   "source": [
    "### Generate Question Response Pairs"
   ]
  },
  {
   "cell_type": "code",
   "execution_count": 22,
   "metadata": {},
   "outputs": [],
   "source": [
    "# import random\n",
    "# from llama_index.core.evaluation import (DatasetGenerator, QueryResponseDataset)\n",
    "\n",
    "# # Generate question response pairs\n",
    "# # the number of nodes to evaluate\n",
    "# num_nodes_eval = 2\n",
    "# num_query_eval = 10\n",
    "\n",
    "# # selecting a random sample of nodes\n",
    "# sample_eval_nodes = random.sample(nodes, num_nodes_eval)\n",
    "\n",
    "# # creating our dataset generator\n",
    "# dataset_generator = DatasetGenerator(\n",
    "#     sample_eval_nodes,\n",
    "#     show_progress=True,\n",
    "#     num_questions_per_chunk=1,\n",
    "# )\n",
    "\n",
    "# eval_dataset = await dataset_generator.agenerate_dataset_from_nodes(num=num_query_eval)\n",
    "# eval_dataset.save_json(\"./data/question_answer_generated.json\")\n",
    "# eval_dataset = QueryResponseDataset.from_json(\"./data/question_answer_generated.json\")"
   ]
  },
  {
   "cell_type": "markdown",
   "metadata": {},
   "source": [
    "### Load Question Response Pairs"
   ]
  },
  {
   "cell_type": "code",
   "execution_count": 23,
   "metadata": {},
   "outputs": [
    {
     "name": "stderr",
     "output_type": "stream",
     "text": [
      "c:\\Users\\aiden\\AppData\\Local\\Programs\\Python\\Python310\\lib\\site-packages\\llama_index\\core\\evaluation\\dataset_generation.py:109: DeprecationWarning: Call to deprecated class QueryResponseDataset. (Deprecated in favor of `LabelledRagDataset` which should be used instead.)\n",
      "  return cls(**data)\n"
     ]
    },
    {
     "data": {
      "text/plain": [
       "{'0': \"What is the instructor's name for this course?\",\n",
       " '1': 'What is the email address of the instructor for this course?',\n",
       " '2': 'When is this course held every week?',\n",
       " '3': 'What is the name of the TA for this course?',\n",
       " '4': 'What is Word2vec?',\n",
       " '5': 'What are the main learning goals of the course?',\n",
       " '6': 'How is the course grade distributed?',\n",
       " '7': 'What is the policy for late submissions in this course?',\n",
       " '8': 'What does the course hope to teach regarding word vectors?',\n",
       " '9': 'How does Word2vec represent word meaning?',\n",
       " '10': 'What is the main focus of this lecture on neural networks?',\n",
       " '11': 'What are the non-linear functions mentioned for neural networks?',\n",
       " '12': 'What is the purpose of non-linearities in neural networks?',\n",
       " '13': 'What is cross entropy loss used for in PyTorch?',\n",
       " '14': 'What is the significance of the backpropagation algorithm?',\n",
       " '15': 'What does the Jacobian matrix represent in the context of neural networks?',\n",
       " '16': 'How is the derivative with respect to a matrix described?',\n",
       " '17': 'What role does automatic differentiation play in modern deep learning frameworks?',\n",
       " '18': 'What is the purpose of manual gradient checking?',\n",
       " '19': 'Why is understanding gradients important despite automatic differentiation?',\n",
       " '20': 'What is the core concept introduced in this class that leads to GPT-3 and ChatGPT?'}"
      ]
     },
     "execution_count": 23,
     "metadata": {},
     "output_type": "execute_result"
    }
   ],
   "source": [
    "from llama_index.core.evaluation import QueryResponseDataset\n",
    "\n",
    "# load the question response pairs from the json file\n",
    "eval_dataset = QueryResponseDataset.from_json(\"./data/question_answer_short.json\")\n",
    "eval_dataset.queries\n"
   ]
  },
  {
   "cell_type": "markdown",
   "metadata": {},
   "source": [
    "### Evaluate Using Faithfulness, Relevancy, Semantic Similarity, "
   ]
  },
  {
   "cell_type": "markdown",
   "metadata": {},
   "source": [
    "- **FaithfulnessEvaluator** module measures if the response from a query engine matches any source nodes. This is useful for measuring if the response was hallucinated.\n",
    "- **RelevancyEvaluator** module measures if the response + source nodes match the query. This is useful for measuring if the query was actually answered by the response.\n",
    "- **SemanticSimilarityEvaluator** measures the quality of a question answering system by comparing the similarity between embeddings of the generated answer and the reference answer."
   ]
  },
  {
   "cell_type": "code",
   "execution_count": 24,
   "metadata": {},
   "outputs": [],
   "source": [
    "from llama_index.core.evaluation import (CorrectnessEvaluator, SemanticSimilarityEvaluator, RelevancyEvaluator, FaithfulnessEvaluator)\n",
    "from llama_index.core.evaluation import BatchEvalRunner\n",
    "import nest_asyncio\n",
    "nest_asyncio.apply()\n",
    "\n",
    "# Evaluation metrics provided by LlamaIndex\n",
    "evaluator_c = CorrectnessEvaluator()\n",
    "evaluator_s = SemanticSimilarityEvaluator()\n",
    "evaluator_r = RelevancyEvaluator()\n",
    "evaluator_f = FaithfulnessEvaluator()\n",
    "\n",
    "evaluator_dict = {\n",
    "    \"faithfulness\": evaluator_f,\n",
    "    \"relevancy\": evaluator_r,\n",
    "    # \"correctness\": evaluator_c,\n",
    "    \"semantic_similarity\": evaluator_s,\n",
    "}\n",
    "\n",
    "runner = BatchEvalRunner(evaluator_dict, workers=2, show_progress=False)\n",
    "\n",
    "eval_results = await runner.aevaluate_queries(\n",
    "    query_engine=query_engine, \n",
    "    queries=eval_dataset.questions,\n",
    "    reference=[qr[1] for qr in eval_dataset.qr_pairs],\n",
    ")"
   ]
  },
  {
   "cell_type": "code",
   "execution_count": 25,
   "metadata": {},
   "outputs": [],
   "source": [
    "# eval_results"
   ]
  },
  {
   "cell_type": "code",
   "execution_count": 26,
   "metadata": {},
   "outputs": [],
   "source": [
    "# len(eval_results)\n",
    "# print(eval_results[\"faithfulness\"])\n",
    "# print(eval_results[\"relevancy\"])\n",
    "# print(eval_results[\"semantic_similarity\"])"
   ]
  },
  {
   "cell_type": "markdown",
   "metadata": {},
   "source": [
    "### Show Currect Evaluation"
   ]
  },
  {
   "cell_type": "code",
   "execution_count": 27,
   "metadata": {},
   "outputs": [
    {
     "data": {
      "text/html": [
       "<div>\n",
       "<style scoped>\n",
       "    .dataframe tbody tr th:only-of-type {\n",
       "        vertical-align: middle;\n",
       "    }\n",
       "\n",
       "    .dataframe tbody tr th {\n",
       "        vertical-align: top;\n",
       "    }\n",
       "\n",
       "    .dataframe thead th {\n",
       "        text-align: right;\n",
       "    }\n",
       "</style>\n",
       "<table border=\"1\" class=\"dataframe\">\n",
       "  <thead>\n",
       "    <tr style=\"text-align: right;\">\n",
       "      <th></th>\n",
       "      <th>Query</th>\n",
       "      <th>Response</th>\n",
       "      <th>Source</th>\n",
       "      <th>Faithfulness</th>\n",
       "      <th>Relevancy</th>\n",
       "      <th>Semantic Similarity</th>\n",
       "    </tr>\n",
       "  </thead>\n",
       "  <tbody>\n",
       "    <tr>\n",
       "      <th>0</th>\n",
       "      <td>What is the instructor's name for this course?</td>\n",
       "      <td>The instructor's name for the course \"Introduc...</td>\n",
       "      <td>Instruction Type Code Type Hours per term C Cl...</td>\n",
       "      <td>0.0</td>\n",
       "      <td>0.0</td>\n",
       "      <td>0.498354</td>\n",
       "    </tr>\n",
       "    <tr>\n",
       "      <th>1</th>\n",
       "      <td>What is the email address of the instructor fo...</td>\n",
       "      <td>I'm sorry, but based on the provided context i...</td>\n",
       "      <td>. Students should be aware that when they acce...</td>\n",
       "      <td>0.0</td>\n",
       "      <td>0.0</td>\n",
       "      <td>0.572940</td>\n",
       "    </tr>\n",
       "    <tr>\n",
       "      <th>2</th>\n",
       "      <td>When is this course held every week?</td>\n",
       "      <td>The course \"Introduction to Computational Natu...</td>\n",
       "      <td>Course Outline 1. COURSE INFORMATION Session O...</td>\n",
       "      <td>1.0</td>\n",
       "      <td>1.0</td>\n",
       "      <td>0.643556</td>\n",
       "    </tr>\n",
       "    <tr>\n",
       "      <th>3</th>\n",
       "      <td>What is the name of the TA for this course?</td>\n",
       "      <td>The TA for this course is an AI TA designed to...</td>\n",
       "      <td>Project Objectives Automate FAQ Responses Deve...</td>\n",
       "      <td>1.0</td>\n",
       "      <td>1.0</td>\n",
       "      <td>0.534986</td>\n",
       "    </tr>\n",
       "    <tr>\n",
       "      <th>4</th>\n",
       "      <td>What is Word2vec?</td>\n",
       "      <td>Word2vec is a framework for learning word vect...</td>\n",
       "      <td>23 𝑃𝑤𝑡 2 𝑤𝑡 𝑃𝑤𝑡 1 𝑤𝑡Word2vec objective functio...</td>\n",
       "      <td>1.0</td>\n",
       "      <td>1.0</td>\n",
       "      <td>0.936275</td>\n",
       "    </tr>\n",
       "    <tr>\n",
       "      <th>5</th>\n",
       "      <td>What are the main learning goals of the course?</td>\n",
       "      <td>The main learning goals of the course include ...</td>\n",
       "      <td>Please read itWhat do we hope to teach A.k.a. ...</td>\n",
       "      <td>1.0</td>\n",
       "      <td>1.0</td>\n",
       "      <td>0.791309</td>\n",
       "    </tr>\n",
       "    <tr>\n",
       "      <th>6</th>\n",
       "      <td>How is the course grade distributed?</td>\n",
       "      <td>The course grade is distributed as follows:\\n-...</td>\n",
       "      <td>A Week 12 Project presentation and Q A Week 13...</td>\n",
       "      <td>1.0</td>\n",
       "      <td>1.0</td>\n",
       "      <td>0.827821</td>\n",
       "    </tr>\n",
       "    <tr>\n",
       "      <th>7</th>\n",
       "      <td>What is the policy for late submissions in thi...</td>\n",
       "      <td>The policy for late submissions in this course...</td>\n",
       "      <td>4 Quizzes 10 Midterm 35 Final Group Project 1 ...</td>\n",
       "      <td>1.0</td>\n",
       "      <td>0.0</td>\n",
       "      <td>0.729005</td>\n",
       "    </tr>\n",
       "    <tr>\n",
       "      <th>8</th>\n",
       "      <td>What does the course hope to teach regarding w...</td>\n",
       "      <td>The course hopes to teach the foundations of e...</td>\n",
       "      <td>Please read itWhat do we hope to teach A.k.a. ...</td>\n",
       "      <td>1.0</td>\n",
       "      <td>1.0</td>\n",
       "      <td>0.722529</td>\n",
       "    </tr>\n",
       "    <tr>\n",
       "      <th>9</th>\n",
       "      <td>How does Word2vec represent word meaning?</td>\n",
       "      <td>Word2vec represents word meaning by weighing t...</td>\n",
       "      <td>For example the analogy king is to queen as ma...</td>\n",
       "      <td>1.0</td>\n",
       "      <td>1.0</td>\n",
       "      <td>0.856353</td>\n",
       "    </tr>\n",
       "    <tr>\n",
       "      <th>10</th>\n",
       "      <td>What is the main focus of this lecture on neur...</td>\n",
       "      <td>The main focus of this lecture on neural netwo...</td>\n",
       "      <td>everything doing this everywhere was the key t...</td>\n",
       "      <td>1.0</td>\n",
       "      <td>1.0</td>\n",
       "      <td>0.790336</td>\n",
       "    </tr>\n",
       "    <tr>\n",
       "      <th>11</th>\n",
       "      <td>What are the non-linear functions mentioned fo...</td>\n",
       "      <td>The non-linear functions mentioned for neural ...</td>\n",
       "      <td>08415 GELU 𝑥 𝑥. 𝑃𝑋 𝑥 𝑋 𝑁 0 1 𝑥. logistic 1.702...</td>\n",
       "      <td>1.0</td>\n",
       "      <td>1.0</td>\n",
       "      <td>0.857539</td>\n",
       "    </tr>\n",
       "    <tr>\n",
       "      <th>12</th>\n",
       "      <td>What is the purpose of non-linearities in neur...</td>\n",
       "      <td>Non-linearities in neural networks are essenti...</td>\n",
       "      <td>08415 GELU 𝑥 𝑥. 𝑃𝑋 𝑥 𝑋 𝑁 0 1 𝑥. logistic 1.702...</td>\n",
       "      <td>1.0</td>\n",
       "      <td>1.0</td>\n",
       "      <td>0.877608</td>\n",
       "    </tr>\n",
       "    <tr>\n",
       "      <th>13</th>\n",
       "      <td>What is cross entropy loss used for in PyTorch?</td>\n",
       "      <td>Cross entropy loss is used in PyTorch for trai...</td>\n",
       "      <td>Now we are ready to introduce cross entropy. T...</td>\n",
       "      <td>1.0</td>\n",
       "      <td>1.0</td>\n",
       "      <td>0.931648</td>\n",
       "    </tr>\n",
       "    <tr>\n",
       "      <th>14</th>\n",
       "      <td>What is the significance of the backpropagatio...</td>\n",
       "      <td>The backpropagation algorithm is significant i...</td>\n",
       "      <td>One approach that can be used to compute the n...</td>\n",
       "      <td>1.0</td>\n",
       "      <td>1.0</td>\n",
       "      <td>0.873718</td>\n",
       "    </tr>\n",
       "    <tr>\n",
       "      <th>15</th>\n",
       "      <td>What does the Jacobian matrix represent in the...</td>\n",
       "      <td>In the context of neural networks, the Jacobia...</td>\n",
       "      <td>Equation 5 also provides the form of Jacobian ...</td>\n",
       "      <td>1.0</td>\n",
       "      <td>1.0</td>\n",
       "      <td>0.791336</td>\n",
       "    </tr>\n",
       "    <tr>\n",
       "      <th>16</th>\n",
       "      <td>How is the derivative with respect to a matrix...</td>\n",
       "      <td>The derivative with respect to a matrix is des...</td>\n",
       "      <td>. . f1 xn . . . ... . . . fm x1 . . . fm xn Th...</td>\n",
       "      <td>1.0</td>\n",
       "      <td>1.0</td>\n",
       "      <td>0.696155</td>\n",
       "    </tr>\n",
       "    <tr>\n",
       "      <th>17</th>\n",
       "      <td>What role does automatic differentiation play ...</td>\n",
       "      <td>Automatic differentiation plays a crucial role...</td>\n",
       "      <td>Differentiation The gradient computation can b...</td>\n",
       "      <td>1.0</td>\n",
       "      <td>1.0</td>\n",
       "      <td>0.729710</td>\n",
       "    </tr>\n",
       "    <tr>\n",
       "      <th>18</th>\n",
       "      <td>What is the purpose of manual gradient checking?</td>\n",
       "      <td>The purpose of manual gradient checking is to ...</td>\n",
       "      <td>4 Gradient Layout Jacobean formulation is grea...</td>\n",
       "      <td>1.0</td>\n",
       "      <td>1.0</td>\n",
       "      <td>0.832606</td>\n",
       "    </tr>\n",
       "    <tr>\n",
       "      <th>19</th>\n",
       "      <td>Why is understanding gradients important despi...</td>\n",
       "      <td>Understanding gradients is important despite a...</td>\n",
       "      <td>rule to compute gradients 79Why learn all thes...</td>\n",
       "      <td>1.0</td>\n",
       "      <td>1.0</td>\n",
       "      <td>0.806571</td>\n",
       "    </tr>\n",
       "    <tr>\n",
       "      <th>20</th>\n",
       "      <td>What is the core concept introduced in this cl...</td>\n",
       "      <td>The core concept introduced in this class that...</td>\n",
       "      <td>Finally given the broad spectrum of capabiliti...</td>\n",
       "      <td>1.0</td>\n",
       "      <td>1.0</td>\n",
       "      <td>0.727923</td>\n",
       "    </tr>\n",
       "  </tbody>\n",
       "</table>\n",
       "</div>"
      ],
      "text/plain": [
       "                                                Query  \\\n",
       "0      What is the instructor's name for this course?   \n",
       "1   What is the email address of the instructor fo...   \n",
       "2                When is this course held every week?   \n",
       "3         What is the name of the TA for this course?   \n",
       "4                                   What is Word2vec?   \n",
       "5     What are the main learning goals of the course?   \n",
       "6                How is the course grade distributed?   \n",
       "7   What is the policy for late submissions in thi...   \n",
       "8   What does the course hope to teach regarding w...   \n",
       "9           How does Word2vec represent word meaning?   \n",
       "10  What is the main focus of this lecture on neur...   \n",
       "11  What are the non-linear functions mentioned fo...   \n",
       "12  What is the purpose of non-linearities in neur...   \n",
       "13    What is cross entropy loss used for in PyTorch?   \n",
       "14  What is the significance of the backpropagatio...   \n",
       "15  What does the Jacobian matrix represent in the...   \n",
       "16  How is the derivative with respect to a matrix...   \n",
       "17  What role does automatic differentiation play ...   \n",
       "18   What is the purpose of manual gradient checking?   \n",
       "19  Why is understanding gradients important despi...   \n",
       "20  What is the core concept introduced in this cl...   \n",
       "\n",
       "                                             Response  \\\n",
       "0   The instructor's name for the course \"Introduc...   \n",
       "1   I'm sorry, but based on the provided context i...   \n",
       "2   The course \"Introduction to Computational Natu...   \n",
       "3   The TA for this course is an AI TA designed to...   \n",
       "4   Word2vec is a framework for learning word vect...   \n",
       "5   The main learning goals of the course include ...   \n",
       "6   The course grade is distributed as follows:\\n-...   \n",
       "7   The policy for late submissions in this course...   \n",
       "8   The course hopes to teach the foundations of e...   \n",
       "9   Word2vec represents word meaning by weighing t...   \n",
       "10  The main focus of this lecture on neural netwo...   \n",
       "11  The non-linear functions mentioned for neural ...   \n",
       "12  Non-linearities in neural networks are essenti...   \n",
       "13  Cross entropy loss is used in PyTorch for trai...   \n",
       "14  The backpropagation algorithm is significant i...   \n",
       "15  In the context of neural networks, the Jacobia...   \n",
       "16  The derivative with respect to a matrix is des...   \n",
       "17  Automatic differentiation plays a crucial role...   \n",
       "18  The purpose of manual gradient checking is to ...   \n",
       "19  Understanding gradients is important despite a...   \n",
       "20  The core concept introduced in this class that...   \n",
       "\n",
       "                                               Source  Faithfulness  \\\n",
       "0   Instruction Type Code Type Hours per term C Cl...           0.0   \n",
       "1   . Students should be aware that when they acce...           0.0   \n",
       "2   Course Outline 1. COURSE INFORMATION Session O...           1.0   \n",
       "3   Project Objectives Automate FAQ Responses Deve...           1.0   \n",
       "4   23 𝑃𝑤𝑡 2 𝑤𝑡 𝑃𝑤𝑡 1 𝑤𝑡Word2vec objective functio...           1.0   \n",
       "5   Please read itWhat do we hope to teach A.k.a. ...           1.0   \n",
       "6   A Week 12 Project presentation and Q A Week 13...           1.0   \n",
       "7   4 Quizzes 10 Midterm 35 Final Group Project 1 ...           1.0   \n",
       "8   Please read itWhat do we hope to teach A.k.a. ...           1.0   \n",
       "9   For example the analogy king is to queen as ma...           1.0   \n",
       "10  everything doing this everywhere was the key t...           1.0   \n",
       "11  08415 GELU 𝑥 𝑥. 𝑃𝑋 𝑥 𝑋 𝑁 0 1 𝑥. logistic 1.702...           1.0   \n",
       "12  08415 GELU 𝑥 𝑥. 𝑃𝑋 𝑥 𝑋 𝑁 0 1 𝑥. logistic 1.702...           1.0   \n",
       "13  Now we are ready to introduce cross entropy. T...           1.0   \n",
       "14  One approach that can be used to compute the n...           1.0   \n",
       "15  Equation 5 also provides the form of Jacobian ...           1.0   \n",
       "16  . . f1 xn . . . ... . . . fm x1 . . . fm xn Th...           1.0   \n",
       "17  Differentiation The gradient computation can b...           1.0   \n",
       "18  4 Gradient Layout Jacobean formulation is grea...           1.0   \n",
       "19  rule to compute gradients 79Why learn all thes...           1.0   \n",
       "20  Finally given the broad spectrum of capabiliti...           1.0   \n",
       "\n",
       "    Relevancy  Semantic Similarity  \n",
       "0         0.0             0.498354  \n",
       "1         0.0             0.572940  \n",
       "2         1.0             0.643556  \n",
       "3         1.0             0.534986  \n",
       "4         1.0             0.936275  \n",
       "5         1.0             0.791309  \n",
       "6         1.0             0.827821  \n",
       "7         0.0             0.729005  \n",
       "8         1.0             0.722529  \n",
       "9         1.0             0.856353  \n",
       "10        1.0             0.790336  \n",
       "11        1.0             0.857539  \n",
       "12        1.0             0.877608  \n",
       "13        1.0             0.931648  \n",
       "14        1.0             0.873718  \n",
       "15        1.0             0.791336  \n",
       "16        1.0             0.696155  \n",
       "17        1.0             0.729710  \n",
       "18        1.0             0.832606  \n",
       "19        1.0             0.806571  \n",
       "20        1.0             0.727923  "
      ]
     },
     "execution_count": 27,
     "metadata": {},
     "output_type": "execute_result"
    }
   ],
   "source": [
    "# Create a pandas dataframe to store the results, with columns for the query, response, source, faithfulness, relevancy, and semantic similarity\n",
    "import pandas as pd\n",
    "display_data = pd.DataFrame(columns=[\"Query\", \"Response\", \"Source\", \"Faithfulness\", \"Relevancy\", \"Semantic Similarity\"])\n",
    "\n",
    "num_query = len(eval_results[\"faithfulness\"])\n",
    "for i in range(num_query):\n",
    "    query = eval_results[\"faithfulness\"][i].query\n",
    "    response = eval_results[\"faithfulness\"][i].response\n",
    "    Source = eval_results[\"faithfulness\"][i].contexts[0]\n",
    "    faithfulness_passing = eval_results[\"faithfulness\"][i].score\n",
    "    relevancy_passing = eval_results[\"relevancy\"][i].score\n",
    "    semantic_similarity = eval_results[\"semantic_similarity\"][i].score\n",
    "    \n",
    "    # Store the results in a dataframe\n",
    "    display_data.loc[i] = [query, response, Source, faithfulness_passing, relevancy_passing, semantic_similarity]\n",
    "    \n",
    "display_data\n",
    "    "
   ]
  },
  {
   "cell_type": "markdown",
   "metadata": {},
   "source": [
    "### Show Average Scores"
   ]
  },
  {
   "cell_type": "code",
   "execution_count": 28,
   "metadata": {},
   "outputs": [
    {
     "name": "stdout",
     "output_type": "stream",
     "text": [
      "Average Faithfulness: 0.9047619047619048\n",
      "Average Relevancy: 0.8571428571428571\n",
      "Average Semantic Similarity: 0.7632512197561855\n"
     ]
    }
   ],
   "source": [
    "# Calculate the average faithfulness, relevancy, and semantic similarity scores\n",
    "avg_faithfulness = display_data[\"Faithfulness\"].mean()\n",
    "avg_relevancy = display_data[\"Relevancy\"].mean()\n",
    "avg_semantic_similarity = display_data[\"Semantic Similarity\"].mean()\n",
    "print(f\"Average Faithfulness: {avg_faithfulness}\")\n",
    "print(f\"Average Relevancy: {avg_relevancy}\")\n",
    "print(f\"Average Semantic Similarity: {avg_semantic_similarity}\")\n"
   ]
  },
  {
   "cell_type": "markdown",
   "metadata": {},
   "source": [
    "### Save Evaluation Results"
   ]
  },
  {
   "cell_type": "code",
   "execution_count": 29,
   "metadata": {},
   "outputs": [],
   "source": [
    "# The results should be stored in a csv file with the following columns:\n",
    "# Model, Chunk Size, Overlap Size, Faithfulness, Relevancy, Semantic Similarity\n",
    "\n",
    "# Initialize the results dataframe\n",
    "# results = pd.DataFrame(columns=[\"Embedding Model\", \"Chunk Size\", \"Overlap Size\", \"Faithfulness\", \"Relevancy\", \"Semantic Similarity\"])\n",
    "# results.to_csv(\"./data/evaluation_results.csv\", index=False)\n",
    "\n",
    "# Append new results to the dataframe\n",
    "results = pd.read_csv(\"./data/evaluation_results.csv\")\n",
    "results.loc[len(results)] = [EMBED_MODEL_ID, CHUNK_SIZE, OVERLAP_SIZE, avg_faithfulness, avg_relevancy, avg_semantic_similarity]\n",
    "\n",
    "# Save the results to a csv file\n",
    "results.to_csv(\"./data/evaluation_results.csv\", index=False)\n",
    "\n"
   ]
  },
  {
   "cell_type": "markdown",
   "metadata": {},
   "source": [
    "### Show Saved Evaluation Results"
   ]
  },
  {
   "cell_type": "code",
   "execution_count": 30,
   "metadata": {},
   "outputs": [
    {
     "data": {
      "text/html": [
       "<div>\n",
       "<style scoped>\n",
       "    .dataframe tbody tr th:only-of-type {\n",
       "        vertical-align: middle;\n",
       "    }\n",
       "\n",
       "    .dataframe tbody tr th {\n",
       "        vertical-align: top;\n",
       "    }\n",
       "\n",
       "    .dataframe thead th {\n",
       "        text-align: right;\n",
       "    }\n",
       "</style>\n",
       "<table border=\"1\" class=\"dataframe\">\n",
       "  <thead>\n",
       "    <tr style=\"text-align: right;\">\n",
       "      <th></th>\n",
       "      <th>Embedding Model</th>\n",
       "      <th>Chunk Size</th>\n",
       "      <th>Overlap Size</th>\n",
       "      <th>Faithfulness</th>\n",
       "      <th>Relevancy</th>\n",
       "      <th>Semantic Similarity</th>\n",
       "    </tr>\n",
       "  </thead>\n",
       "  <tbody>\n",
       "    <tr>\n",
       "      <th>0</th>\n",
       "      <td>BAAI/bge-small-en-v1.5</td>\n",
       "      <td>256</td>\n",
       "      <td>10</td>\n",
       "      <td>1.000000</td>\n",
       "      <td>0.904762</td>\n",
       "      <td>0.840245</td>\n",
       "    </tr>\n",
       "    <tr>\n",
       "      <th>1</th>\n",
       "      <td>BAAI/bge-small-en-v1.5</td>\n",
       "      <td>256</td>\n",
       "      <td>20</td>\n",
       "      <td>1.000000</td>\n",
       "      <td>0.857143</td>\n",
       "      <td>0.837503</td>\n",
       "    </tr>\n",
       "    <tr>\n",
       "      <th>2</th>\n",
       "      <td>BAAI/bge-small-en-v1.5</td>\n",
       "      <td>128</td>\n",
       "      <td>10</td>\n",
       "      <td>0.952381</td>\n",
       "      <td>0.952381</td>\n",
       "      <td>0.828908</td>\n",
       "    </tr>\n",
       "    <tr>\n",
       "      <th>3</th>\n",
       "      <td>BAAI/bge-small-en-v1.5</td>\n",
       "      <td>128</td>\n",
       "      <td>20</td>\n",
       "      <td>0.952381</td>\n",
       "      <td>0.857143</td>\n",
       "      <td>0.840400</td>\n",
       "    </tr>\n",
       "    <tr>\n",
       "      <th>4</th>\n",
       "      <td>text-embedding-3-small</td>\n",
       "      <td>256</td>\n",
       "      <td>10</td>\n",
       "      <td>0.904762</td>\n",
       "      <td>1.000000</td>\n",
       "      <td>0.801619</td>\n",
       "    </tr>\n",
       "    <tr>\n",
       "      <th>5</th>\n",
       "      <td>text-embedding-3-small</td>\n",
       "      <td>256</td>\n",
       "      <td>20</td>\n",
       "      <td>0.952381</td>\n",
       "      <td>1.000000</td>\n",
       "      <td>0.788386</td>\n",
       "    </tr>\n",
       "    <tr>\n",
       "      <th>6</th>\n",
       "      <td>text-embedding-3-small</td>\n",
       "      <td>128</td>\n",
       "      <td>10</td>\n",
       "      <td>0.904762</td>\n",
       "      <td>0.952381</td>\n",
       "      <td>0.755510</td>\n",
       "    </tr>\n",
       "    <tr>\n",
       "      <th>7</th>\n",
       "      <td>text-embedding-3-small</td>\n",
       "      <td>128</td>\n",
       "      <td>20</td>\n",
       "      <td>0.904762</td>\n",
       "      <td>0.857143</td>\n",
       "      <td>0.763251</td>\n",
       "    </tr>\n",
       "  </tbody>\n",
       "</table>\n",
       "</div>"
      ],
      "text/plain": [
       "          Embedding Model  Chunk Size  Overlap Size  Faithfulness  Relevancy  \\\n",
       "0  BAAI/bge-small-en-v1.5         256            10      1.000000   0.904762   \n",
       "1  BAAI/bge-small-en-v1.5         256            20      1.000000   0.857143   \n",
       "2  BAAI/bge-small-en-v1.5         128            10      0.952381   0.952381   \n",
       "3  BAAI/bge-small-en-v1.5         128            20      0.952381   0.857143   \n",
       "4  text-embedding-3-small         256            10      0.904762   1.000000   \n",
       "5  text-embedding-3-small         256            20      0.952381   1.000000   \n",
       "6  text-embedding-3-small         128            10      0.904762   0.952381   \n",
       "7  text-embedding-3-small         128            20      0.904762   0.857143   \n",
       "\n",
       "   Semantic Similarity  \n",
       "0             0.840245  \n",
       "1             0.837503  \n",
       "2             0.828908  \n",
       "3             0.840400  \n",
       "4             0.801619  \n",
       "5             0.788386  \n",
       "6             0.755510  \n",
       "7             0.763251  "
      ]
     },
     "execution_count": 30,
     "metadata": {},
     "output_type": "execute_result"
    }
   ],
   "source": [
    "results = pd.read_csv(\"./data/evaluation_results.csv\")\n",
    "results"
   ]
  },
  {
   "cell_type": "code",
   "execution_count": 31,
   "metadata": {},
   "outputs": [],
   "source": [
    "# from ragas.evaluation import evaluate\n",
    "\n",
    "# result = evaluate(query_engine, metrics, eval_questions, eval_answers)"
   ]
  },
  {
   "cell_type": "markdown",
   "metadata": {},
   "source": [
    "## Log Progress"
   ]
  },
  {
   "cell_type": "code",
   "execution_count": 32,
   "metadata": {},
   "outputs": [],
   "source": [
    "import logging\n",
    "import sys\n",
    "\n",
    "logging.basicConfig(stream=sys.stdout, level=logging.DEBUG)\n",
    "logging.getLogger().addHandler(logging.StreamHandler(stream=sys.stdout))"
   ]
  }
 ],
 "metadata": {
  "kernelspec": {
   "display_name": "Python 3",
   "language": "python",
   "name": "python3"
  },
  "language_info": {
   "codemirror_mode": {
    "name": "ipython",
    "version": 3
   },
   "file_extension": ".py",
   "mimetype": "text/x-python",
   "name": "python",
   "nbconvert_exporter": "python",
   "pygments_lexer": "ipython3",
   "version": "3.9.15"
  }
 },
 "nbformat": 4,
 "nbformat_minor": 2
}
